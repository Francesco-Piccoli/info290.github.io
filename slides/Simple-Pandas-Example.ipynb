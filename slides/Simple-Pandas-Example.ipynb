{
 "cells": [
  {
   "cell_type": "code",
   "execution_count": null,
   "metadata": {},
   "outputs": [],
   "source": [
    "import pandas as pd\n",
    "products = pd.DataFrame({\n",
    "    \"iPhone 11 Pro\": [\n",
    "        \"5.8-inch\", \n",
    "        \"Triple 12MP\",\n",
    "        \"120MP\",\n",
    "        \"A13\",\n",
    "        \"IP68\",\n",
    "        \"Yes\",\n",
    "                     ],\n",
    "    \"iPhone Pro Max\": [\n",
    "        \"6.5-inch\", \n",
    "        \"Triple 12MP\",\n",
    "        \"12MP\",\n",
    "        \"A13\",\n",
    "        \"IP68\",\n",
    "        \"Yes\",\n",
    "                     ],\n",
    "    \"iPhone 11\": [\n",
    "        \"6.1-inch\", \n",
    "        \"Dual 12MP\",\n",
    "        \"7MP\",\n",
    "        \"A13\",\n",
    "        \"IP68\",\n",
    "        \"Yes\",\n",
    "                     ],\n",
    "    \"iPhone XS\": [\n",
    "        \"5.8-inch\", \n",
    "        \"Dual 12MP\",\n",
    "        \"7MP\",\n",
    "        \"A12\",\n",
    "        \"IP67\",\n",
    "        \"No\",\n",
    "                     ],\n",
    "}, index=[\"Display\", \"Camera\", \"Front Camera\", \"Chip\", \n",
    "          \"Waterproof\", \"Wireless Charging\"])\n",
    "products"
   ]
  },
  {
   "cell_type": "code",
   "execution_count": null,
   "metadata": {},
   "outputs": [],
   "source": [
    "# Positional updates, like spreadsheets\n",
    "\n",
    "products.iloc[2, 0] = \"12MP\"\n",
    "products"
   ]
  },
  {
   "cell_type": "code",
   "execution_count": null,
   "metadata": {},
   "outputs": [],
   "source": [
    "# Transpose, like matrices\n",
    "\n",
    "products = products.T\n",
    "products"
   ]
  },
  {
   "cell_type": "code",
   "execution_count": null,
   "metadata": {},
   "outputs": [],
   "source": [
    "# Modifying existing columns, like relational databases\n",
    "\n",
    "products[\"Wireless Charging\"] = products[\"Wireless Charging\"].map(lambda x: 1 if x is \"Yes\" else 0)\n",
    "products"
   ]
  },
  {
   "cell_type": "code",
   "execution_count": null,
   "metadata": {},
   "outputs": [],
   "source": [
    "price_review_df = pd.DataFrame(\n",
    "    {\n",
    "        \"Price\": [999.00, 1099.00, 699.99, 999.99],\n",
    "        \"Rating\": [4.5, 5, 4.6, 4.7],\n",
    "    }, \n",
    "    index=[\"iPhone 11 Pro\", \"iPhone Pro Max\", \"iPhone 11\", \"iPhone XS\"]\n",
    ")\n",
    "price_review_df"
   ]
  },
  {
   "cell_type": "code",
   "execution_count": null,
   "metadata": {},
   "outputs": [],
   "source": [
    "# One-hot-encoding, a useful primitive for ML\n",
    "\n",
    "matrix = pd.get_dummies(products)\n",
    "matrix"
   ]
  },
  {
   "cell_type": "code",
   "execution_count": null,
   "metadata": {},
   "outputs": [],
   "source": [
    "# A join like relational databases\n",
    "\n",
    "matrix = price_review_df.merge(\n",
    "    matrix, left_index=True, right_index=True\n",
    ")\n",
    "matrix"
   ]
  },
  {
   "cell_type": "code",
   "execution_count": null,
   "metadata": {},
   "outputs": [],
   "source": [
    "# Covariance, like matrices\n",
    "\n",
    "df = matrix.cov()\n",
    "df"
   ]
  }
 ],
 "metadata": {
  "kernelspec": {
   "display_name": "Python 3",
   "language": "python",
   "name": "python3"
  },
  "language_info": {
   "codemirror_mode": {
    "name": "ipython",
    "version": 3
   },
   "file_extension": ".py",
   "mimetype": "text/x-python",
   "name": "python",
   "nbconvert_exporter": "python",
   "pygments_lexer": "ipython3",
   "version": "3.7.2"
  }
 },
 "nbformat": 4,
 "nbformat_minor": 4
}
