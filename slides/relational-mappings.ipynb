{
 "cells": [
  {
   "cell_type": "code",
   "execution_count": null,
   "metadata": {},
   "outputs": [],
   "source": [
    "import numpy as np\n",
    "import pandas as pd"
   ]
  },
  {
   "cell_type": "code",
   "execution_count": null,
   "metadata": {},
   "outputs": [],
   "source": [
    "total_cases_df = pd.read_csv(\"jhu-data.csv\")\n",
    "total_cases_df"
   ]
  },
  {
   "cell_type": "code",
   "execution_count": null,
   "metadata": {},
   "outputs": [],
   "source": [
    "# ordered relational selection (sigma)\n",
    "total_cases_df = total_cases_df[total_cases_df['Country_Region'] == 'United States']\n",
    "total_cases_df"
   ]
  },
  {
   "cell_type": "code",
   "execution_count": null,
   "metadata": {},
   "outputs": [],
   "source": [
    "# ordered relational selection (sigma)\n",
    "total_cases_df = total_cases_df[-total_cases_df['Province_State'].isnull()]\n",
    "total_cases_df"
   ]
  },
  {
   "cell_type": "code",
   "execution_count": null,
   "metadata": {},
   "outputs": [],
   "source": [
    "# ordered relational projection (pi)\n",
    "cols           = ['Province_State', 'Confirmed', 'Recovered', 'Active', 'Deaths', 'Date']\n",
    "total_cases_df = total_cases_df[cols]\n",
    "total_cases_df"
   ]
  },
  {
   "cell_type": "code",
   "execution_count": null,
   "metadata": {},
   "outputs": [],
   "source": [
    "# ordered relational renaming (rho)\n",
    "total_cases_df = total_cases_df.rename(columns={'Province_State': 'State'})\n",
    "total_cases_df"
   ]
  },
  {
   "cell_type": "code",
   "execution_count": null,
   "metadata": {},
   "outputs": [],
   "source": [
    "# ordered relational crossproduct (X) -- step 1\n",
    "total_cases_df ['key'] = 1\n",
    "total_cases_df"
   ]
  },
  {
   "cell_type": "code",
   "execution_count": null,
   "metadata": {},
   "outputs": [],
   "source": [
    "# ordered relational crossproduct (X) -- step 2\n",
    "merge_df = pd.merge (total_cases_df, total_cases_df, on='key')\n",
    "merge_df = merge_df.drop(['key'], axis = 1)\n",
    "merge_df"
   ]
  },
  {
   "cell_type": "code",
   "execution_count": null,
   "metadata": {},
   "outputs": [],
   "source": [
    "# ordered relational crossproduct (X) -- step 3\n",
    "total_cases_df  = total_cases_df.drop(['key'], axis = 1)\n",
    "total_cases_df"
   ]
  },
  {
   "cell_type": "code",
   "execution_count": null,
   "metadata": {},
   "outputs": [],
   "source": [
    "# ordered relational join (bowtie) \n",
    "merge_df        = pd.merge(total_cases_df, total_cases_df)\n",
    "merge_df\n",
    "\n",
    "# Q: why are there two extra rows?"
   ]
  },
  {
   "cell_type": "code",
   "execution_count": null,
   "metadata": {},
   "outputs": [],
   "source": [
    "# ordered relational join (bowtie)\n",
    "# debugging why there are two extra rows\n",
    "\n",
    "\n",
    "total_cases_df.drop_duplicates()"
   ]
  },
  {
   "cell_type": "code",
   "execution_count": null,
   "metadata": {},
   "outputs": [],
   "source": [
    "# ordered relational join (bowtie)\n",
    "# debugging why there are two extra rows\n",
    "\n",
    "merge_df        = pd.merge(total_cases_df.drop_duplicates(), total_cases_df.drop_duplicates())\n",
    "merge_df"
   ]
  },
  {
   "cell_type": "code",
   "execution_count": null,
   "metadata": {},
   "outputs": [],
   "source": [
    "# ordered relational group-by-and-aggregate\n",
    "\n",
    "group_df = total_cases_df.groupby('State').agg({'Confirmed':np.max, 'Deaths':np.max})\n",
    "group_df"
   ]
  },
  {
   "cell_type": "code",
   "execution_count": null,
   "metadata": {},
   "outputs": [],
   "source": [
    "# detour: resetting the index\n",
    "\n",
    "group_df = group_df.reset_index()\n",
    "group_df"
   ]
  },
  {
   "cell_type": "code",
   "execution_count": null,
   "metadata": {},
   "outputs": [],
   "source": [
    "# ordered relational sort\n",
    "\n",
    "group_df.sort_values (by=['Confirmed'], ascending = False)"
   ]
  }
 ],
 "metadata": {
  "kernelspec": {
   "display_name": "Python 3",
   "language": "python",
   "name": "python3"
  },
  "language_info": {
   "codemirror_mode": {
    "name": "ipython",
    "version": 3
   },
   "file_extension": ".py",
   "mimetype": "text/x-python",
   "name": "python",
   "nbconvert_exporter": "python",
   "pygments_lexer": "ipython3",
   "version": "3.7.2"
  }
 },
 "nbformat": 4,
 "nbformat_minor": 4
}
